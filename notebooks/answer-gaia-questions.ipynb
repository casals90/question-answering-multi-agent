{
 "cells": [
  {
   "cell_type": "markdown",
   "id": "8be78205-6c1c-4e4d-ac28-473534e2ccce",
   "metadata": {},
   "source": [
    "## README"
   ]
  },
  {
   "cell_type": "code",
   "execution_count": null,
   "id": "4fcc536b-6693-49e3-adbd-bc3b9a4c497c",
   "metadata": {},
   "outputs": [],
   "source": [
    "import sys\n",
    "sys.path.append(\"../\")"
   ]
  },
  {
   "cell_type": "code",
   "execution_count": null,
   "id": "4740b533-818a-4074-ae57-fa2f8fa2c684",
   "metadata": {},
   "outputs": [],
   "source": [
    "import json\n",
    "import os\n",
    "import time\n",
    "import requests\n",
    "\n",
    "from huggingface_hub import login\n",
    "\n",
    "from src.data import extract\n",
    "from src.tools.startup import settings\n",
    "from src.agent import question_answering"
   ]
  },
  {
   "cell_type": "markdown",
   "id": "116a755a-49af-4534-a187-67034046e331",
   "metadata": {},
   "source": [
    "## Parameters"
   ]
  },
  {
   "cell_type": "code",
   "execution_count": null,
   "id": "ba630f1f-b531-4120-b9fb-7d066dab493f",
   "metadata": {},
   "outputs": [],
   "source": [
    "processed_folder = settings[\"volumes\"][\"processed\"]\n",
    "answers_file_path = os.path.join(processed_folder, \"answers.json\")"
   ]
  },
  {
   "cell_type": "code",
   "execution_count": null,
   "id": "3b8f1f64-d4f3-4d42-978e-2e6c00738e20",
   "metadata": {},
   "outputs": [],
   "source": [
    "# HuggingFace GAIA questions API\n",
    "hf_base_url = \"https://agents-course-unit4-scoring.hf.space\"\n",
    "hf_url_questions = f\"{base_url}/questions\"\n",
    "hf_url_files = f\"{base_url}/files/\"\n",
    "hf_url_submit = f\"{base_url}/submit\"\n",
    "hf_space_url = \"https://huggingface.co/spaces/casals90/AgentsCourseFinalAssignment/tree/main\"\n",
    "\n",
    "interim_folder = settings[\"volumes\"][\"interim\"]\n",
    "\n",
    "graph_config = {\n",
    "    \"configurable\": {\n",
    "        \"thread_id\": \"1\"}, \n",
    "    \"recursion_limit\": 30\n",
    "}"
   ]
  },
  {
   "cell_type": "markdown",
   "id": "4c4f382f-2dde-4950-b7ee-772f7c945683",
   "metadata": {},
   "source": [
    "Logging to Hugginface "
   ]
  },
  {
   "cell_type": "code",
   "execution_count": null,
   "id": "c5490b0a-cb3a-4954-bceb-56fe0f000824",
   "metadata": {},
   "outputs": [],
   "source": [
    "login(os.environ[\"HUGGINGFACE_TOKEN\"])"
   ]
  },
  {
   "cell_type": "code",
   "execution_count": null,
   "id": "cb445e22-eaf8-495b-83f5-dbe4bf2ac044",
   "metadata": {},
   "outputs": [],
   "source": [
    "settings"
   ]
  },
  {
   "cell_type": "markdown",
   "id": "12b09f42-3ba3-40ba-8a65-b76fa5eddc41",
   "metadata": {},
   "source": [
    "## Extract"
   ]
  },
  {
   "cell_type": "code",
   "execution_count": null,
   "id": "e3842e1f-39c3-4f39-92ad-8bd6ad600ba4",
   "metadata": {},
   "outputs": [],
   "source": [
    "questions = extract.get_questions(interim_folder)"
   ]
  },
  {
   "cell_type": "code",
   "execution_count": null,
   "id": "67516777-1bbf-4aad-9e0e-92b2c22bd5b6",
   "metadata": {},
   "outputs": [],
   "source": [
    "answers_list = extract.read_json_file(answers_file_path)\n",
    "correct = extract.read_json_file(\"correct.json\")"
   ]
  },
  {
   "cell_type": "code",
   "execution_count": null,
   "id": "ce51f65c-d5b2-4279-93cf-d7e7d742e3b9",
   "metadata": {},
   "outputs": [],
   "source": [
    "answers = []\n",
    "for i, question in enumerate(questions, start=1):\n",
    "    task_id = question[\"task_id\"]\n",
    "    if task_id in (\"8e867cd7-cff9-4e6c-867a-ff5ddc2550be\", \"a1e91b78-d3d8-4675-bb8d-62741b4b68a6\", \n",
    "                   \"9d191bce-651d-4746-be2d-7ef8ecadb9c2\", \"7bd855d8-463d-4ed5-93ca-5fe35145f733\", \n",
    "                   \"a0c07678-e491-4bbc-8f0b-07405144218f\"):\n",
    "        continue\n",
    "\n",
    "    if task_id not in correct[\"correct\"]:\n",
    "        print(f\"Question {i}: {question['question']}\")\n",
    "        print(question['task_id'])\n",
    "        print(\"*\"*30)"
   ]
  },
  {
   "cell_type": "markdown",
   "id": "f621a934-65dc-49b2-93f1-8e6d4bcb539d",
   "metadata": {},
   "source": [
    "## Answer questions"
   ]
  },
  {
   "cell_type": "code",
   "execution_count": null,
   "id": "cac47168-00f5-4153-afc4-9bab05fdea22",
   "metadata": {},
   "outputs": [],
   "source": [
    "qa_agent = question_answering.QuestionAnsweringAgent(graph_config)"
   ]
  },
  {
   "cell_type": "code",
   "execution_count": null,
   "id": "2b6eb748-d28c-4f28-8af3-e96a9b8b2e18",
   "metadata": {
    "scrolled": true
   },
   "outputs": [],
   "source": [
    "#answer = qa_agent.answer_question(\n",
    "#    \"1+1 = 2?\", stream_mode=\"values\", subgraphs=False, debug=False)"
   ]
  },
  {
   "cell_type": "code",
   "execution_count": null,
   "id": "019af371-4325-4a27-a925-45e77b816663",
   "metadata": {},
   "outputs": [],
   "source": [
    "# answer"
   ]
  },
  {
   "cell_type": "code",
   "execution_count": null,
   "id": "acc750e3-c7f9-4a29-ac09-ebfaf48d9813",
   "metadata": {},
   "outputs": [],
   "source": [
    "#question = questions[3]\n",
    "\n",
    "#query = question[\"question\"]\n",
    "#question\n",
    "\n",
    "# answer = qa_agent.answer_gaia_question(\n",
    "#    question, stream_mode=\"values\", subgraphs=False, debug=False)"
   ]
  },
  {
   "cell_type": "code",
   "execution_count": null,
   "id": "5118a65f-2f8e-4196-a80c-5be2e5ae9d0e",
   "metadata": {},
   "outputs": [],
   "source": [
    "answers = []\n",
    "for i, question in enumerate(questions, start=1):\n",
    "    task_id = question[\"task_id\"]\n",
    "    if task_id in (\"8e867cd7-cff9-4e6c-867a-ff5ddc2550be\", \"a1e91b78-d3d8-4675-bb8d-62741b4b68a6\", \n",
    "                   \"9d191bce-651d-4746-be2d-7ef8ecadb9c2\", \"7bd855d8-463d-4ed5-93ca-5fe35145f733\", \n",
    "                   \"a0c07678-e491-4bbc-8f0b-07405144218f\"):\n",
    "        continue\n",
    "    \n",
    "    query = question[\"question\"]\n",
    "    base64_image = \"\"\n",
    "\n",
    "    if task_id not in correct[\"correct\"]:\n",
    "        print(f\"Question {i}: {question['question']}\")\n",
    "        print(\"*\"*30)\n",
    "        \n",
    "        answer = qa_agent.answer_gaia_question(\n",
    "            question, stream_mode=\"values\", subgraphs=False, debug=False)\n",
    "        \n",
    "    else:\n",
    "        for ans in answers_list:\n",
    "            if ans[\"task_id\"] == task_id:\n",
    "                answer = ans[\"submitted_answer\"]\n",
    "                break\n",
    "\n",
    "\n",
    "    answers.append({\n",
    "      \"task_id\": task_id,\n",
    "      \"submitted_answer\": answer\n",
    "    })"
   ]
  },
  {
   "cell_type": "code",
   "execution_count": null,
   "id": "cc6c3e2c-2818-47a3-a378-41275ea5ff98",
   "metadata": {},
   "outputs": [],
   "source": [
    "answers"
   ]
  },
  {
   "cell_type": "markdown",
   "id": "1be1f830-5766-4837-b1cb-bd03b00b4f49",
   "metadata": {},
   "source": [
    "submit_data = {\n",
    "  \"username\": \"casals90\",\n",
    "  \"agent_code\": space_url,\n",
    "  \"answers\": answers\n",
    "}\n",
    "\n",
    "response = requests.post(url_submit, data=json.dumps(submit_data))\n",
    "\n",
    "response.text"
   ]
  },
  {
   "cell_type": "code",
   "execution_count": null,
   "id": "41fa214a-665d-4dde-ba4b-49b0b99c052c",
   "metadata": {},
   "outputs": [],
   "source": []
  },
  {
   "cell_type": "code",
   "execution_count": null,
   "id": "f1a57d29-13b0-4265-a2b5-91d36cb7b201",
   "metadata": {},
   "outputs": [],
   "source": [
    "response = load.submit_answers(answers)\n"
   ]
  },
  {
   "cell_type": "code",
   "execution_count": null,
   "id": "7fa95896-da2c-4959-8eb7-414778ca4fc0",
   "metadata": {},
   "outputs": [],
   "source": [
    "correct = []\n",
    "for i in range(1, len(answers) + 1):\n",
    "    iter_answer = answers[i-1:i] \n",
    "    task_id = iter_answer[0][\"task_id\"]\n",
    "\n",
    "    submit_data = {\n",
    "      \"username\": \"casals90\",\n",
    "      \"agent_code\": space_url,\n",
    "      \"answers\": iter_answer\n",
    "    }\n",
    "    time.sleep(5)\n",
    "    response = requests.post(url_submit, data=json.dumps(submit_data))\n",
    "    res = json.loads(response.text)\n",
    "    if res[\"correct_count\"] == 1:\n",
    "        correct.append(task_id)"
   ]
  },
  {
   "cell_type": "code",
   "execution_count": null,
   "id": "3beca186-126a-4f0f-82ba-4d0a57fc80dc",
   "metadata": {},
   "outputs": [],
   "source": [
    "correct"
   ]
  },
  {
   "cell_type": "code",
   "execution_count": null,
   "id": "e6dcd972-1b68-4863-9f2c-7927b1f78c3f",
   "metadata": {},
   "outputs": [],
   "source": []
  },
  {
   "cell_type": "code",
   "execution_count": null,
   "id": "5b2dbcc7-101d-4c74-aac9-a54e0cd86896",
   "metadata": {},
   "outputs": [],
   "source": [
    "correct_task_ids = {\n",
    "    \"correct\": correct\n",
    "}\n",
    "\n",
    "correct_task_ids"
   ]
  },
  {
   "cell_type": "code",
   "execution_count": null,
   "id": "10e89833-1593-4889-9ac8-0224161d2f43",
   "metadata": {},
   "outputs": [],
   "source": [
    "from src.data import load\n",
    "\n",
    "# load.save_json_file(correct_task_ids, \"correct.json\")"
   ]
  },
  {
   "cell_type": "code",
   "execution_count": null,
   "id": "8e2e5937-f1e6-47e0-8e48-b68c4db31df9",
   "metadata": {},
   "outputs": [],
   "source": [
    "#with open(\"answers_75_score.json\", \"w\") as f:\n",
    "#    f.write(json.dumps(answers))"
   ]
  },
  {
   "cell_type": "code",
   "execution_count": null,
   "id": "2b5396b3-12a7-4902-bc0f-fb35752f2560",
   "metadata": {},
   "outputs": [],
   "source": []
  },
  {
   "cell_type": "code",
   "execution_count": null,
   "id": "1eb113be-abe8-4086-9dbf-d6a601854635",
   "metadata": {},
   "outputs": [],
   "source": []
  },
  {
   "cell_type": "code",
   "execution_count": null,
   "id": "12e1e143-8972-4d9c-8a49-97a420109d1d",
   "metadata": {},
   "outputs": [],
   "source": []
  }
 ],
 "metadata": {
  "kernelspec": {
   "display_name": "Python 3 (ipykernel)",
   "language": "python",
   "name": "python3"
  },
  "language_info": {
   "codemirror_mode": {
    "name": "ipython",
    "version": 3
   },
   "file_extension": ".py",
   "mimetype": "text/x-python",
   "name": "python",
   "nbconvert_exporter": "python",
   "pygments_lexer": "ipython3",
   "version": "3.11.6"
  }
 },
 "nbformat": 4,
 "nbformat_minor": 5
}
