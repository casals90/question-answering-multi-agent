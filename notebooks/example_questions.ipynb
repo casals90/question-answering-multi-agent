{
 "cells": [
  {
   "cell_type": "code",
   "execution_count": null,
   "id": "4fcc536b-6693-49e3-adbd-bc3b9a4c497c",
   "metadata": {},
   "outputs": [],
   "source": [
    "import sys\n",
    "sys.path.append(\"../\")"
   ]
  },
  {
   "cell_type": "code",
   "execution_count": null,
   "id": "4740b533-818a-4074-ae57-fa2f8fa2c684",
   "metadata": {},
   "outputs": [],
   "source": [
    "import pandas as pd\n",
    "\n",
    "from src.agent import question_answering, tool as agent_tool\n",
    "from src.tools.startup import settings\n",
    "from src.agent import prompt, utils as agent_utils\n"
   ]
  },
  {
   "cell_type": "markdown",
   "id": "0e534a0d-6308-44f3-80fb-375c354c7035",
   "metadata": {},
   "source": [
    "## Parameters"
   ]
  },
  {
   "cell_type": "code",
   "execution_count": null,
   "id": "0da98e6d-0f01-4aba-91f6-3a5e81071c4f",
   "metadata": {},
   "outputs": [],
   "source": [
    "graph_config = {\n",
    "    \"configurable\": {\n",
    "        \"thread_id\": \"1\"}, \n",
    "    \"recursion_limit\": 30\n",
    "}\n",
    "\n",
    "qa_agent = question_answering.QuestionAnsweringAgent(graph_config)"
   ]
  },
  {
   "cell_type": "markdown",
   "id": "106d7c27-0cf1-4a63-843e-20bac4dad268",
   "metadata": {},
   "source": [
    "## Model architecure"
   ]
  },
  {
   "cell_type": "code",
   "execution_count": null,
   "id": "d710dc7e-b994-47da-a1de-a841228aa393",
   "metadata": {},
   "outputs": [],
   "source": [
    "qa_agent._graph"
   ]
  },
  {
   "cell_type": "markdown",
   "id": "ba972ac9-27e2-49b9-b424-4965703b92a4",
   "metadata": {},
   "source": [
    "## GAIA questions example"
   ]
  },
  {
   "cell_type": "markdown",
   "id": "5a180940-8c57-4428-83fd-7259c18a7b76",
   "metadata": {},
   "source": [
    "### Question:\n",
    "\n",
    "Examine the video at https://www.youtube.com/watch?v=1htKBjuUWec.\\n\\nWhat does Teal\\'c say in response to the question \"Isn\\'t that hot?\""
   ]
  },
  {
   "cell_type": "code",
   "execution_count": null,
   "id": "3166bc3f-8639-4ad8-ba90-bba580bd6c6a",
   "metadata": {},
   "outputs": [],
   "source": [
    "question_youtube = {'task_id': '9d191bce-651d-4746-be2d-7ef8ecadb9c2',\n",
    "  'question': 'Examine the video at https://www.youtube.com/watch?v=1htKBjuUWec.\\n\\nWhat does Teal\\'c say in response to the question \"Isn\\'t that hot?\"',\n",
    "  'Level': '1',\n",
    "  'file_name': ''}\n",
    "\n",
    "question_youtube"
   ]
  },
  {
   "cell_type": "code",
   "execution_count": null,
   "id": "e9423b5a-916a-4816-99de-f89388ab7ada",
   "metadata": {},
   "outputs": [],
   "source": [
    "qa_agent = question_answering.QuestionAnsweringAgent(graph_config)\n",
    "answer = qa_agent.answer_gaia_question(\n",
    "    question_youtube, stream_mode=\"values\", subgraphs=False, debug=False)"
   ]
  },
  {
   "cell_type": "markdown",
   "id": "eab556de-7093-4e7f-9eff-9b6ddd782642",
   "metadata": {},
   "source": [
    "#### Answer"
   ]
  },
  {
   "cell_type": "code",
   "execution_count": null,
   "id": "1ade6314-a513-44c1-abca-14c13bf078ed",
   "metadata": {},
   "outputs": [],
   "source": [
    "print(answer)"
   ]
  },
  {
   "cell_type": "markdown",
   "id": "6436a12d-377f-487d-9cb9-6d083998c377",
   "metadata": {},
   "source": [
    "### Question\n",
    "\n",
    "The attached Excel file contains the sales of menu items for a local fast-food chain. What were the total sales that the chain made from food (not including drinks)? Express your answer in USD with two decimal places."
   ]
  },
  {
   "cell_type": "code",
   "execution_count": null,
   "id": "09a1f07c-3628-4bbb-b89f-01debe83270a",
   "metadata": {},
   "outputs": [],
   "source": [
    "question_excel = {'task_id': '7bd855d8-463d-4ed5-93ca-5fe35145f733',\n",
    " 'question': 'The attached Excel file contains the sales of menu items for a local fast-food chain. What were the total sales that the chain made from food (not including drinks)? Express your answer in USD with two decimal places.',\n",
    " 'Level': '1',\n",
    " 'file_name': '7bd855d8-463d-4ed5-93ca-5fe35145f733.xlsx',\n",
    " 'file_path': '/data/interim/7bd855d8-463d-4ed5-93ca-5fe35145f733/7bd855d8-463d-4ed5-93ca-5fe35145f733.xlsx'\n",
    "}\n",
    "\n",
    "question_excel"
   ]
  },
  {
   "cell_type": "code",
   "execution_count": null,
   "id": "c83a527a-890b-492f-896b-e0c3c71cb61d",
   "metadata": {},
   "outputs": [],
   "source": [
    "qa_agent = question_answering.QuestionAnsweringAgent(graph_config)\n",
    "answer = qa_agent.answer_gaia_question(\n",
    "    question_excel, stream_mode=\"values\", subgraphs=False, debug=False)"
   ]
  },
  {
   "cell_type": "markdown",
   "id": "5865b266-539a-4839-99a9-d2a9825bf98c",
   "metadata": {},
   "source": [
    "#### Final Answer"
   ]
  },
  {
   "cell_type": "code",
   "execution_count": null,
   "id": "a32736db-6a34-445d-94e5-84d954d74c72",
   "metadata": {},
   "outputs": [],
   "source": [
    "print(answer)"
   ]
  },
  {
   "cell_type": "markdown",
   "id": "68564314-c3de-492e-897b-1ffbe331598e",
   "metadata": {},
   "source": [
    "#### Real answer"
   ]
  },
  {
   "cell_type": "code",
   "execution_count": null,
   "id": "37965524-1261-445c-9819-6731eaff4658",
   "metadata": {},
   "outputs": [],
   "source": [
    "df = pd.read_excel(question_excel[\"file_path\"])\n",
    "total_food_sales = df.drop(columns=[\"Soda\", \"Location\"]).sum().sum()\n",
    "formatted_sales = '${:.2f}'.format(total_food_sales)\n",
    "\n",
    "print(formatted_sales)"
   ]
  },
  {
   "cell_type": "markdown",
   "id": "6f6e631f-1a11-41c7-a280-36e1e96c924b",
   "metadata": {},
   "source": [
    "## Random questions"
   ]
  },
  {
   "cell_type": "markdown",
   "id": "583e3a20-8417-4650-86be-842aa8339ffe",
   "metadata": {},
   "source": [
    "### Question\n",
    "\n",
    "List the Nobel Prize winners in Physics from 2010 to 2020."
   ]
  },
  {
   "cell_type": "code",
   "execution_count": null,
   "id": "b4137d4a-1ed4-4e1e-a370-8e38cad35d8a",
   "metadata": {},
   "outputs": [],
   "source": [
    "qa_agent = question_answering.QuestionAnsweringAgent(graph_config)\n",
    "query = \"List the Nobel Prize winners in Physics from 2010 to 2020.\"\n",
    "answer = qa_agent.answer_question(\n",
    "    query, stream_mode=\"values\", subgraphs=False, debug=False)"
   ]
  },
  {
   "cell_type": "markdown",
   "id": "0ba88234-9207-41c3-ade9-fcb7ebb752a1",
   "metadata": {},
   "source": [
    "#### Final answer"
   ]
  },
  {
   "cell_type": "code",
   "execution_count": null,
   "id": "84834e92-909b-41d1-869f-69f302a9acd1",
   "metadata": {},
   "outputs": [],
   "source": [
    "print(answer)"
   ]
  },
  {
   "cell_type": "markdown",
   "id": "79806fb8-4997-44c2-a59c-50041de84417",
   "metadata": {},
   "source": [
    "### Question\n",
    "\n",
    "Which countries share a border with Germany?"
   ]
  },
  {
   "cell_type": "code",
   "execution_count": null,
   "id": "b5108c9a-37e8-41a9-abc1-b1dd958d0883",
   "metadata": {},
   "outputs": [],
   "source": [
    "qa_agent = question_answering.QuestionAnsweringAgent(graph_config)\n",
    "query = \"Which countries share a border with Germany?\"\n",
    "answer = qa_agent.answer_question(\n",
    "    query, stream_mode=\"values\", subgraphs=False, debug=False)"
   ]
  },
  {
   "cell_type": "markdown",
   "id": "20889f5d-111b-4927-8100-6a441bb0d71c",
   "metadata": {},
   "source": [
    "#### Final Answer"
   ]
  },
  {
   "cell_type": "code",
   "execution_count": null,
   "id": "0f76e0da-3401-472e-9d2e-d7fe53c75328",
   "metadata": {},
   "outputs": [],
   "source": [
    "print(answer)"
   ]
  }
 ],
 "metadata": {
  "kernelspec": {
   "display_name": "Python 3 (ipykernel)",
   "language": "python",
   "name": "python3"
  },
  "language_info": {
   "codemirror_mode": {
    "name": "ipython",
    "version": 3
   },
   "file_extension": ".py",
   "mimetype": "text/x-python",
   "name": "python",
   "nbconvert_exporter": "python",
   "pygments_lexer": "ipython3",
   "version": "3.11.6"
  }
 },
 "nbformat": 4,
 "nbformat_minor": 5
}
